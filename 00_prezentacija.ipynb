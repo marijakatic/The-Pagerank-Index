{
 "cells": [
  {
   "cell_type": "markdown",
   "metadata": {},
   "source": [
    "# <center>Studentski projekat na kursu Naučno izračunavanje, <br>Master studije na Matematičkom fakultetu u Beogradu <br>Marija Katić, 1022/2020</center>"
   ]
  },
  {
   "cell_type": "markdown",
   "metadata": {},
   "source": [
    "Projekat predstavlja reimplementaciju istraživanja sprovedenog u radu: \n",
    "### <a href=\"https://www.ncbi.nlm.nih.gov/pmc/articles/PMC4545754/#\" > \"The Pagerank-Index: Going beyond Citation Counts in Quantifying Scientific Impact of Researchers\"<br> Upul Senanayake, Mahendra Piraveenan, Albert Zomaya </a>\n"
   ]
  },
  {
   "cell_type": "markdown",
   "metadata": {},
   "source": [
    "<img src=\"assets/rad.png\"/>"
   ]
  },
  {
   "cell_type": "markdown",
   "metadata": {},
   "source": [
    "## H-index"
   ]
  },
  {
   "cell_type": "markdown",
   "metadata": {},
   "source": [
    "Najveći broj h takav da autor ima makar h radova koji su citirani makar h puta."
   ]
  },
  {
   "cell_type": "markdown",
   "metadata": {},
   "source": [
    "<img src=\"assets/h-index-illustration.png\" width=400/>"
   ]
  },
  {
   "cell_type": "markdown",
   "metadata": {},
   "source": [
    "#### Problemi:"
   ]
  },
  {
   "cell_type": "markdown",
   "metadata": {},
   "source": [
    "<b>3 scenarija koja rad obradjuje i na kojima uporedjuje h-index i pagerank-index: </b>\n",
    "<ol>\n",
    "  <li><i><b>Manipulative authors</b> - when authors try to ‘massage’ their index by publishing papers in low-quality outlets primarily to self-cite other papers</i> </li>\n",
    "  <li><i><b>Collaborative authors</b> - when authors collaborate in large groups in order to obtain more authorships </i></li>\n",
    "  <li><i><b>Quantity oriented authors</b> - when authors spend most of their time in producing genuine but low quality publications that would massage their index</i></li>\n",
    "</ol>"
   ]
  },
  {
   "cell_type": "markdown",
   "metadata": {},
   "source": [
    "> <b>Didier Raoult</b> - Francuski mikrobiolog, h-index = <b> 192 </b> <br>\n",
    "> <b>Albert Einstein</b> - Teorijski fizicar, h-index = <b>118</b>"
   ]
  },
  {
   "cell_type": "markdown",
   "metadata": {},
   "source": [
    "<img src=\"assets/Didier-vs-Einstein.png\" width=400/>"
   ]
  },
  {
   "cell_type": "markdown",
   "metadata": {},
   "source": [
    "## Page-rank"
   ]
  },
  {
   "cell_type": "markdown",
   "metadata": {},
   "source": [
    "* Pagerank je poznati algoritam korišćen od strane Guglove pretrage za rangiranje veb stranica.\n",
    "* Stranica je utoliko značajnija ukoliko na nju pokazuje više drugih značajnih stranica."
   ]
  },
  {
   "cell_type": "markdown",
   "metadata": {},
   "source": [
    "<center>\n",
    "    $ P(s) =  \\Sigma_{r \\in N(s)} \\frac{P(r)}{n_r} +  \\Sigma_{r \\in K} v_s P(r), s \\in S $ <br><br>\n",
    "    $ p = (A + vk^{T})p $ <br><br>\n",
    "    $ p = \\alpha(A + vk^{T})p + (1-\\alpha)v $  <br><br>\n",
    "    $ p = (\\alpha(A + vk^{T}) + (1-\\alpha)ve^{T}) p $ <br><br>\n",
    "    $ G := (\\alpha(A + vk^{T}) + (1-\\alpha)ve^{T}) $ <br><br>\n",
    "</center>"
   ]
  },
  {
   "cell_type": "markdown",
   "metadata": {},
   "source": [
    "<img src=\"assets/pagerank-visualization.jpg\" width=500/> "
   ]
  },
  {
   "cell_type": "markdown",
   "metadata": {},
   "source": [
    "## The Pagerank-Index"
   ]
  },
  {
   "cell_type": "markdown",
   "metadata": {},
   "source": [
    "<img src=\"assets/p-index.png\"  width=700/>"
   ]
  },
  {
   "cell_type": "markdown",
   "metadata": {},
   "source": [
    "<dl>\n",
    "  <dt>Ranking publications: <dt>\n",
    "    <dd><center>    \n",
    "        Pagerank algortiam primenjen na radove\n",
    "    </center></dd> <br>\n",
    "  <dt>Distributing page-rank values:</dt>\n",
    "    <dd><center>    \n",
    "        $ W_{d}^{s} = \\frac{N_a - R_s + 1}{0.5 N_a(N_a + 1)} $ <br><br>\n",
    "        $ W_d^s $ - tezina dodeljena autoru s za rad d <br>\n",
    "        $ N_a^d $ - broj autora rada d <br>\n",
    "        $ R_s $ - pozicija autora s na listi postpisanih autora rada d\n",
    "    </center></dd> <br>\n",
    "  <dt> $\\pi $ calculation: </dt>\n",
    "    <dd><center>    \n",
    "        Saberu se otezane pagerank vrednost radova za svakog autora i dobije se <b>pagerank-value</b> autora. <br>\n",
    "        <b>pagerank-index</b> je onda percentilni rang pagerank vrednosti autora. <br>\n",
    "    </center></dd>\n",
    "</dl>"
   ]
  },
  {
   "cell_type": "markdown",
   "metadata": {},
   "source": [
    "# Struktura projekta:"
   ]
  },
  {
   "cell_type": "markdown",
   "metadata": {},
   "source": [
    "<dl>\n",
    "  <dt><a href=\"./utility.ipynb\" > utility.ipynb </a>:</dt>\n",
    "      <dd> - Potrebne klase (CitatonDatabase, Paper, Author) </dd>\n",
    "      <dd> - Jos neke potrebne metode za plotovanje i crtanje </dd>\n",
    "  <dt><a href=\"./01_simulations.ipynb\" > 01_simulations.ipynb </a>:</dt>\n",
    "      <dd> Praćenjem instrukcija u radu implementirano je generisanje veštačke mreže citiranja.\n",
    "            Prikazani su rezultati.<br> Rezultati se u nekim slučajevim razlikuju od onih u radu. </dd>\n",
    "  <dt><a href=\"./02_QGT.ipynb\" > 02_QGT.ipynb </a>:</dt>\n",
    "      <dd> Učitan je postojeći skup podataka QGT dostupan na <a href=https://github.com/upulcranga/pindex.git> https://github.com/upulcranga/pindex.git </a>i izvršena analiza rezultata. </dd>\n",
    "</dl>"
   ]
  },
  {
   "cell_type": "code",
   "execution_count": null,
   "metadata": {},
   "outputs": [],
   "source": []
  }
 ],
 "metadata": {
  "kernelspec": {
   "display_name": "Python 3",
   "language": "python",
   "name": "python3"
  },
  "language_info": {
   "codemirror_mode": {
    "name": "ipython",
    "version": 3
   },
   "file_extension": ".py",
   "mimetype": "text/x-python",
   "name": "python",
   "nbconvert_exporter": "python",
   "pygments_lexer": "ipython3",
   "version": "3.7.6"
  }
 },
 "nbformat": 4,
 "nbformat_minor": 4
}
