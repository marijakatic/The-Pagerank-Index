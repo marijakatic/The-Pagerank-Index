{
 "cells": [
  {
   "cell_type": "markdown",
   "metadata": {},
   "source": [
    "# All necessary classes and methods for the implementation"
   ]
  },
  {
   "cell_type": "code",
   "execution_count": 1,
   "metadata": {
    "id": "veNtDsNNEhSi"
   },
   "outputs": [],
   "source": [
    "import networkx as nx\n",
    "import matplotlib.pyplot as plt"
   ]
  },
  {
   "cell_type": "code",
   "execution_count": 2,
   "metadata": {
    "id": "y8CF_KToDvNs"
   },
   "outputs": [],
   "source": [
    "class CitationDatabase:\n",
    "\n",
    "    def __init__(self, papers=None, authors=None, citations=None, alpha=0.9, keep_updated=False):\n",
    "        \n",
    "        # all papers in the citation network\n",
    "        self.all_papers = [] if papers is None else papers\n",
    "        \n",
    "        # all authors in the citation network\n",
    "        self.all_authors = []\n",
    "        # all authors from the \"negative\" group\n",
    "        self.negative_authors = []\n",
    "        # all authors from the \"positive\" group\n",
    "        self.positive_authors = []\n",
    "        if not authors is None:\n",
    "            for author in authors:\n",
    "                self.add_author(author)\n",
    "\n",
    "        # all citations in the citation network\n",
    "        self.citations = [] if citations is None else citations\n",
    "\n",
    "        # parameter alpha for the pagerank algorithm\n",
    "        self.alpha = alpha\n",
    "        # keep the ranking lists updated after each change\n",
    "        self.keep_updated = keep_updated\n",
    "        \n",
    "        # indices for all papers and authors\n",
    "        self.paper_pvalues = {}\n",
    "        self.author_h_indices = {}\n",
    "        self.author_pvalues = {}\n",
    "        self.author_pindices = {}\n",
    "   \n",
    "    # update all rankings based on citations in the database\n",
    "    def ranking_update(self):\n",
    "        # construct citation-graph\n",
    "        G = nx.DiGraph()\n",
    "        self.G = G\n",
    "        G.add_nodes_from(self.paper_ids)\n",
    "        G.add_edges_from(self.citations)\n",
    "\n",
    "        # calculate papers' pagerank-values\n",
    "        self.paper_pvalues = nx.pagerank(G, alpha=self.alpha)\n",
    "\n",
    "        # calculate authors' pagerank-values:\n",
    "        # pagerank-values of each paper are distributed in a weighted manner\n",
    "        # to each co-author of that specific paper\n",
    "        for a in self.all_authors:\n",
    "            author_pvalue = 0\n",
    "            for p in a.paper_list:\n",
    "                # N - number of authors of paper p\n",
    "                N = p.num_of_authors\n",
    "                # R - position of author a in author-list of paper p\n",
    "                R = p.author_list.index(a) + 1\n",
    "                # w - weight of the pagerank-value assigned to author a from paper p\n",
    "                w = (N - R + 1) / (0.5 * N * (N + 1))\n",
    "                # agregating weighted pagerank-values received from each of author's papers\n",
    "                author_pvalue += w * p.pagerank_value\n",
    "            self.author_pvalues[a.author_id] = author_pvalue\n",
    "\n",
    "        # calculate authors' pagerank-indices:\n",
    "        # pagerank-index - percentile ranking of author based on his pagerank-value\n",
    "        for author in self.all_authors:\n",
    "            author_pindex = 0\n",
    "            # cf - cumulative frequency - count of all scores less than the score of interest\n",
    "            cf = 0\n",
    "            for pvalue in self.author_pvalues.values():\n",
    "                if pvalue < author.pagerank_value:\n",
    "                    cf += 1\n",
    "            # f - frequency for the score of interest\n",
    "            f = 0\n",
    "            for pvalue in self.author_pvalues.values():\n",
    "                if pvalue == author.pagerank_value:\n",
    "                    cf += 1\n",
    "            # n - number of scores in the distribution\n",
    "            n = len(self.all_authors)\n",
    "            # percentile rank\n",
    "            author_pindex = 100 * (cf + 0.5 * f) / n\n",
    "            \n",
    "            self.author_pindices[author.author_id] = author_pindex\n",
    "\n",
    "        # calculate authors' h-indices:\n",
    "        # max value of h such that the author has at least h papers \n",
    "        # that have each been cited at least h times\n",
    "        for author in self.all_authors:\n",
    "            # for h in [num_of_papers, num_of_papers - 1, ..., 0]\n",
    "            for h in range(author.num_of_papers, -1, -1): \n",
    "                # k - number of author's papers cited more than h times\n",
    "                k = 0\n",
    "                for paper in author.paper_list:\n",
    "                    if paper.citation_count > h:\n",
    "                        k += 1    \n",
    "                if k >= h:\n",
    "                    break\n",
    "            self.author_h_indices[author.author_id] = h\n",
    "\n",
    "\n",
    "    # add new paper to the database\n",
    "    def add_paper(self, paper):\n",
    "        paper.database = self\n",
    "        self.all_papers.append(paper)\n",
    "        # keep rankings updated\n",
    "        if self.keep_updated:\n",
    "            ranking_update()\n",
    "\n",
    "    # add new author to the database\n",
    "    def add_author(self, author):\n",
    "        author.database = self\n",
    "        self.all_authors.append(author)\n",
    "        if author.member:\n",
    "            self.negative_authors.append(author)\n",
    "        else:\n",
    "            self.positive_authors.append(author)\n",
    "        # keep rankings updated\n",
    "        if self.keep_updated:\n",
    "            ranking_update()\n",
    "\n",
    "    # add new citation to the database\n",
    "    def add_citation(self, citation):\n",
    "        self.citations.append(citation)\n",
    "        # update citation count for the cited paper\n",
    "        self.all_papers[citation[1]].citation_count += 1\n",
    "        # keep rankings updated\n",
    "        if self.keep_updated:\n",
    "            ranking_update()\n",
    "\n",
    "\n",
    "    # all author ids from the database\n",
    "    @property\n",
    "    def author_ids(self):\n",
    "        return [author.author_id for author in self.all_authors]\n",
    "\n",
    "    # all paper ids from the database\n",
    "    @property\n",
    "    def paper_ids(self):\n",
    "        return [paper.paper_id for paper in self.all_papers]\n",
    "\n",
    "    # recommend ID for new author\n",
    "    def new_author_id(self):\n",
    "        return len(self.all_authors)"
   ]
  },
  {
   "cell_type": "code",
   "execution_count": 3,
   "metadata": {
    "id": "bY1LQHRGw26R"
   },
   "outputs": [],
   "source": [
    "class Paper():\n",
    "\n",
    "    def __init__(self, database, paper_id, member=False, author_list=None, impact_factor=None, \n",
    "                 num_of_refs=None, num_of_inter_refs=None, title=None):\n",
    "        \n",
    "        self.database = database\n",
    "\n",
    "        # paper's unique identifier\n",
    "        self.paper_id = paper_id\n",
    "        # member of \"negative group\" of papers or not\n",
    "        self.member = member\n",
    "\n",
    "        # how many authors are assigned to the paper\n",
    "        self.num_of_authors = len(author_list)\n",
    "        # list of authors of the paper\n",
    "        self.author_list = author_list\n",
    "\n",
    "        # the impact factor of the paper\n",
    "        # used in simulating the author behaviour, in synthesized systems only \n",
    "        # the pagerank-index doesn't use impact factors\n",
    "        self.impact_factor = impact_factor\n",
    "        \n",
    "        # total number of references a paper makes\n",
    "        self.num_of_refs = num_of_refs\n",
    "        \n",
    "        # number of references paper makes within the particular field studied\n",
    "        # (always less then total number of references)\n",
    "        self.num_of_inter_refs = num_of_inter_refs\n",
    "\n",
    "        # set this paper as new paper for all authors from the paper's author list\n",
    "        for author in author_list:\n",
    "            author.add_paper(self)\n",
    "\n",
    "        # title of the paper\n",
    "        self.title = title\n",
    "\n",
    "        # number of citations paper receives\n",
    "        self.citation_count = 0\n",
    "\n",
    "        # \"register\" paper in specified database\n",
    "        self.database.add_paper(self)\n",
    "        \n",
    "\n",
    "    def __repr__(self):\n",
    "        return \"Paper {} | {} | {}\".format(self.paper_id, self.title, \n",
    "                 ', '.join([author.name if not author.name is None else str(author.author_id)\n",
    "                            for author in self.author_list]))\n",
    "        \n",
    "    # pagerank-index of paper based on data in the database\n",
    "    @property\n",
    "    def pagerank_value(self):\n",
    "        return self.database.paper_pvalues[self.paper_id]\n",
    "            "
   ]
  },
  {
   "cell_type": "code",
   "execution_count": 4,
   "metadata": {
    "id": "byCq5fS_w26X"
   },
   "outputs": [],
   "source": [
    "class Author():\n",
    "\n",
    "    def __init__(self, database, author_id, member=False, paper_list=None, name=None):\n",
    "        self.database = database\n",
    "        \n",
    "        # author's unique identifier\n",
    "        self.author_id = author_id\n",
    "        \n",
    "        # member of \"negative group\" of authors or not\n",
    "        self.member = member\n",
    "        \n",
    "        # list of papers authored or co-authored by the author\n",
    "        self.paper_list = [] if paper_list is None else paper_list\n",
    "        \n",
    "        # author's name\n",
    "        self.name = name\n",
    "                    \n",
    "        # \"register\" author in specified database\n",
    "        self.database.add_author(self)\n",
    "        \n",
    "    def __repr__(self):\n",
    "        return \"Author {} | {} | {}\".format(self.author_id, self.name, [paper.paper_id for paper in self.paper_list])\n",
    "\n",
    "    \n",
    "    # add new paper to the author's paper list\n",
    "    def add_paper(self, paper):\n",
    "        if not paper in self.paper_list:\n",
    "            self.paper_list.append(paper)\n",
    "                       \n",
    "    # number of papers authored or co-authored by this author\n",
    "    @property\n",
    "    def num_of_papers(self):\n",
    "        return len(self.paper_list)\n",
    "    \n",
    "    # number of citations author has for all of his papers\n",
    "    @property\n",
    "    def citation_count(self):\n",
    "        count = 0\n",
    "        for paper in self.paper_list:\n",
    "            count += paper.citation_count\n",
    "        return count\n",
    "        \n",
    "    # h-index of author based on data in the database\n",
    "    @property\n",
    "    def h_index(self):\n",
    "        return self.database.author_h_indices[self.author_id]\n",
    "\n",
    "    # pagerank-value of author based on data in the database\n",
    "    @property\n",
    "    def pagerank_value(self):\n",
    "        return self.database.author_pvalues[self.author_id]\n",
    "\n",
    "    # pagerank-index of author based on data in the database\n",
    "    @property\n",
    "    def pagerank_index(self):\n",
    "        return self.database.author_pindices[self.author_id]\n",
    "\n"
   ]
  },
  {
   "cell_type": "code",
   "execution_count": 5,
   "metadata": {},
   "outputs": [],
   "source": [
    "def plot_indices(db, title=None, figheight=6, figwidth=20, \n",
    "                 marker_pos='o', marker_neg='x', color_pos='green', color_neg='red', \n",
    "                 legend=True, vertical=False):\n",
    "    \n",
    "    negative_ids = [author.author_id for author in db.negative_authors]\n",
    "    positive_ids = [author.author_id for author in db.positive_authors]\n",
    "\n",
    "    h_indices_negative = [author.h_index for author in db.negative_authors]\n",
    "    h_indices_positive = [author.h_index for author in db.positive_authors]\n",
    "\n",
    "    pvalues_negative = [author.pagerank_value for author in db.negative_authors]\n",
    "    pvalues_positive = [author.pagerank_value for author in db.positive_authors]\n",
    "\n",
    "    pindices_negative = [author.pagerank_index for author in db.negative_authors]\n",
    "    pindices_positive = [author.pagerank_index for author in db.positive_authors]\n",
    "    \n",
    "    \n",
    "    if vertical:\n",
    "        fig, (ax1, ax2, ax3) = plt.subplots(3, 1)\n",
    "    else:\n",
    "        fig, (ax1, ax2, ax3) = plt.subplots(1, 3)\n",
    "        \n",
    "    fig.set_figheight(figheight)\n",
    "    fig.set_figwidth(figwidth)\n",
    "    if not title is None:\n",
    "        fig.suptitle(title)\n",
    "    \n",
    "    ax1.set_title(\"Spread of the h-index for authors\")\n",
    "    ax1.scatter(positive_ids, h_indices_positive, color='green', marker=marker_pos, label='positive group')\n",
    "    ax1.scatter(negative_ids, h_indices_negative, color='red', marker=marker_neg, label='negative group')\n",
    "    ax1.set_xlabel(\"Author ID\")\n",
    "    ax1.set_ylabel(\"Author h-index\")\n",
    "    \n",
    "    ax2.set_title(\"Spread of the pagerank-value for authors\")\n",
    "    ax2.scatter(positive_ids, pvalues_positive, color='green', marker=marker_pos, label='positive group')\n",
    "    ax2.scatter(negative_ids, pvalues_negative, color='red', marker=marker_neg, label='negative group')\n",
    "    ax2.set_xlabel(\"Author ID\")\n",
    "    ax2.set_ylabel(\"Author pagerank-value\")\n",
    "    \n",
    "    ax3.set_title(\"Spread of the pagerank-index for authors\")\n",
    "    ax3.scatter(positive_ids, pindices_positive, color='green', marker=marker_pos, label='positive group')\n",
    "    ax3.scatter(negative_ids, pindices_negative, color='red', marker=marker_neg, label='negative group')\n",
    "    ax3.set_xlabel(\"Author ID\")\n",
    "    ax3.set_ylabel(\"Author pagerank-index\")\n",
    "    \n",
    "    if legend:\n",
    "        ax1.legend()\n",
    "        ax2.legend()\n",
    "        ax3.legend()\n",
    "    \n",
    "    plt.show()"
   ]
  },
  {
   "cell_type": "code",
   "execution_count": 6,
   "metadata": {},
   "outputs": [],
   "source": [
    "def draw_graph(G, img_name):\n",
    "    plt.figure(figsize=(30, 25))\n",
    "    pos = nx.random_layout(G)\n",
    "    nx.draw_networkx_nodes(G, pos, node_color='cadetblue', node_size=100)\n",
    "    nx.draw_networkx_labels(G, pos, font_color='black', font_size=10, font_family='arial')\n",
    "    nx.draw_networkx_edges(G, pos, edgelist=G.edges, width=1, edge_color='purple')\n",
    "    plt.axis('off')\n",
    "    plt.savefig(img_name)\n",
    "    plt.show()"
   ]
  },
  {
   "cell_type": "markdown",
   "metadata": {},
   "source": [
    "## Some tests:"
   ]
  },
  {
   "cell_type": "code",
   "execution_count": 7,
   "metadata": {
    "colab": {
     "base_uri": "https://localhost:8080/"
    },
    "id": "LWqCrLDdw26Z",
    "outputId": "2900405a-357d-43ad-9dbb-d24eeed77920"
   },
   "outputs": [
    {
     "name": "stdout",
     "output_type": "stream",
     "text": [
      "Author 0 | Jeff | []\n",
      "Author 1 | Bob | []\n",
      "Author 2 | None | []\n"
     ]
    }
   ],
   "source": [
    "if __name__ == '__main__':\n",
    "    db = CitationDatabase()\n",
    "    Jeff = Author(db, db.new_author_id(), True, name=\"Jeff\")\n",
    "    Bob = Author(db, db.new_author_id(), True, name=\"Bob\")\n",
    "    Helen = Author(db, db.new_author_id(), False)\n",
    "\n",
    "    for author in db.all_authors:\n",
    "        print(author)"
   ]
  },
  {
   "cell_type": "code",
   "execution_count": 8,
   "metadata": {
    "colab": {
     "base_uri": "https://localhost:8080/"
    },
    "id": "dJx38EkV5HIt",
    "outputId": "2d2e7e2e-d90e-4aef-e609-303be3414e8b"
   },
   "outputs": [
    {
     "name": "stdout",
     "output_type": "stream",
     "text": [
      "Paper 0 | None | Jeff, Bob, 2\n",
      "Paper 1 | None | Jeff, Bob\n",
      "Paper 2 | None | 2\n"
     ]
    }
   ],
   "source": [
    "if __name__ == '__main__':\n",
    "    paper1 = Paper(db, 0, \"nes\", [Jeff, Bob, Helen], 20, 3, 8)\n",
    "    paper2 = Paper(db, 1, \"nessss\", [Jeff, Bob], 10, 3, 8)\n",
    "    paper3 = Paper(db, 2, \"niss\", [Helen], 9, 3, 8)\n",
    "\n",
    "    for paper in db.all_papers:\n",
    "        print(paper)"
   ]
  },
  {
   "cell_type": "code",
   "execution_count": 9,
   "metadata": {},
   "outputs": [
    {
     "name": "stdout",
     "output_type": "stream",
     "text": [
      "Author 0 | Jeff | [0, 1]\n",
      "Author 1 | Bob | [0, 1]\n",
      "Author 2 | None | [0, 2]\n"
     ]
    }
   ],
   "source": [
    "if __name__ == '__main__':\n",
    "    for author in db.all_authors:\n",
    "        print(author)"
   ]
  },
  {
   "cell_type": "code",
   "execution_count": 10,
   "metadata": {
    "colab": {
     "base_uri": "https://localhost:8080/"
    },
    "id": "ZO8Ty20g5_ki",
    "outputId": "f81634ea-843c-45cd-b2cc-1afc1448f346"
   },
   "outputs": [
    {
     "name": "stdout",
     "output_type": "stream",
     "text": [
      "{0: 0.3333333333333333, 1: 0.3333333333333333, 2: 0.3333333333333333}\n",
      "{0: 0.2564101201433333, 1: 0.2564101201433333, 2: 0.48717975971333327}\n"
     ]
    }
   ],
   "source": [
    "if __name__ == '__main__':\n",
    "    db.ranking_update()\n",
    "    print(db.paper_pvalues)\n",
    "    db.add_citation((1, 2))\n",
    "    db.ranking_update()\n",
    "    print(db.paper_pvalues)"
   ]
  },
  {
   "cell_type": "code",
   "execution_count": null,
   "metadata": {
    "id": "ZV2rXXOOSy1L"
   },
   "outputs": [],
   "source": []
  },
  {
   "cell_type": "code",
   "execution_count": null,
   "metadata": {},
   "outputs": [],
   "source": []
  }
 ],
 "metadata": {
  "colab": {
   "collapsed_sections": [],
   "name": "Copy of classesImproved.ipynb",
   "provenance": []
  },
  "kernelspec": {
   "display_name": "Python 3",
   "language": "python",
   "name": "python3"
  },
  "language_info": {
   "codemirror_mode": {
    "name": "ipython",
    "version": 3
   },
   "file_extension": ".py",
   "mimetype": "text/x-python",
   "name": "python",
   "nbconvert_exporter": "python",
   "pygments_lexer": "ipython3",
   "version": "3.7.6"
  }
 },
 "nbformat": 4,
 "nbformat_minor": 1
}
